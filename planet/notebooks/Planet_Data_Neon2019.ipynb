{
  "nbformat": 4,
  "nbformat_minor": 0,
  "metadata": {
    "colab": {
      "name": "Planet-Data-Neon2019.ipynb",
      "provenance": [],
      "collapsed_sections": []
    },
    "kernelspec": {
      "name": "python3",
      "display_name": "Python 3"
    }
  },
  "cells": [
    {
      "cell_type": "markdown",
      "metadata": {
        "id": "JJKTL939E1a7",
        "colab_type": "text"
      },
      "source": [
        "# **Planet Imagery**\n",
        "\n",
        "Planet achieved [**Mission one**](https://www.planet.com/pulse/mission-1), **imaging the entire earth every single day**. Having such an ambitious mission and achieveing it meant meant that can now analyze time series datasets over weekly and bi weekly periods and understand questions that require dynamic analysis such as vegetation patters, climate variability and changes in hydrological cycles. It generated the single largest trove of high frequency dataset in existence with an unprecedented cadence or repeat over areas.\n",
        "\n",
        "To think of Planet products you have to understand two terms as thought they live in a hierarchy\n",
        "Items and Assets\n",
        "![planet-products](https://user-images.githubusercontent.com/6677629/66722158-0e8a6c80-edbf-11e9-95c2-3160e1598f7c.JPG)\n",
        "* **Item type** almost refers exclusively to a family of satellite or sensor types so PlanetScope, RapidEye, Skysat, Landsat and so on are all item types. These are model definitions based on the type of sensor you are utilizing for performing any type of analysis.\n",
        "\n",
        "* **Asset type** are types of item derivatives or data types that you are actually utilizing for example analytic, analytic_sr, analytic_xml, visual and so on. These allow you to choose the type of actual data that you are able to download including the type and level of preprocesing that has been applied to it.\n",
        "\n",
        "To read more about Planet items and assets, [try this page](https://developers.planet.com/docs/api/items-assets/)\n",
        "\n"
      ]
    },
    {
      "cell_type": "markdown",
      "metadata": {
        "id": "TqHg5wGOH_0d",
        "colab_type": "text"
      },
      "source": [
        "**Initialize the Planet Client**\n",
        "\n",
        "Before we get anything started you should initialize the planet client. In this this required your email address and password associated with your Planet explorer account. If you are using Google colab you can remove the '#' symbol before ```!planet init```. Else open a new terminal in mybinder and use the method below. Then go back to the notebook\n",
        "\n",
        "![initialize](https://user-images.githubusercontent.com/6677629/66725367-22959480-ede6-11e9-90e6-a4f53c33a95a.gif)\n"
      ]
    },
    {
      "cell_type": "code",
      "metadata": {
        "id": "iUfbaiO4FOl0",
        "colab_type": "code",
        "colab": {}
      },
      "source": [
        "# Test planet installation\n",
        "try:\n",
        "  import planet\n",
        "except ImportError:\n",
        "  !pip install planet==1.3.2\n",
        "\n",
        "#If using Colab\n",
        "#!planet init"
      ],
      "execution_count": 0,
      "outputs": []
    },
    {
      "cell_type": "markdown",
      "metadata": {
        "id": "W_qSh82XIkod",
        "colab_type": "text"
      },
      "source": [
        "**Upload your AOI**\n",
        "\n",
        "Visit [geojson.io](http://geojson.io) and draw your AOI. You will use this geometry to search for images that intersect your area and download them eventually. While search does not depend on your quota, download does. A useful rule of thumb, do not draw an extremely large AOI response might take a long time and fail. Avoid choosing a whole country or continent scale AOI :)"
      ]
    },
    {
      "cell_type": "markdown",
      "metadata": {
        "id": "NXK_qUzL0UD_",
        "colab_type": "text"
      },
      "source": [
        "**Check your Quota**\n",
        "\n",
        "Before you start work on this notebook check your quota in Sqkm to see if you can download your imagery. We are going to download only one image and then going to call this function again\n",
        "\n"
      ]
    },
    {
      "cell_type": "code",
      "metadata": {
        "id": "saI4UROztlsj",
        "colab_type": "code",
        "colab": {}
      },
      "source": [
        "import requests\n",
        "import sys\n",
        "from planet.api.auth import find_api_key\n",
        "\n",
        "\n",
        "# Function to get user's quota\n",
        "def planet_quota():\n",
        "    # Get API Key: Requires user to have initialized Planet CLI\n",
        "    try:\n",
        "        api_key = find_api_key()\n",
        "    except Exception as e:\n",
        "        print(e)\n",
        "        print('Failed to get Planet Key: Try planet init')\n",
        "        sys.exit()\n",
        "    '''Print allocation and remaining quota in Sqkm.'''\n",
        "    try:\n",
        "        main = requests.get('https://api.planet.com/auth/v1/experimental/public/my/subscriptions', auth=(api_key, ''))\n",
        "        if main.status_code == 200:\n",
        "            content = main.json()\n",
        "            for item_id in content:\n",
        "                print(\" \")\n",
        "                print(\n",
        "                    'Subscription ID: %s'\n",
        "                    % item_id['id'])\n",
        "                print(\n",
        "                    'Plan ID: %s'\n",
        "                    % item_id['plan_id'])\n",
        "                print(\n",
        "                    'Allocation Name: %s'\n",
        "                    % item_id['organization']['name'])\n",
        "                print(\n",
        "                    'Allocation active from: %s'\n",
        "                    % item_id['active_from'].split(\"T\")[0])\n",
        "                print(\n",
        "                    'Quota Enabled: %s'\n",
        "                    % item_id['quota_enabled'])\n",
        "                print(\n",
        "                    'Total Quota in SqKm: %s'\n",
        "                    % item_id['quota_sqkm'])\n",
        "                print(\n",
        "                    'Total Quota used: %s'\n",
        "                    % item_id['quota_used'])\n",
        "                if (item_id['quota_sqkm'])is not None:\n",
        "                    leftquota = (float(\n",
        "                        item_id['quota_sqkm'] - float(item_id['quota_used'])))\n",
        "                    print(\n",
        "                        'Remaining Quota in SqKm: %s' % leftquota)\n",
        "                else:\n",
        "                    print('No Quota Allocated')\n",
        "                print('')\n",
        "        elif main.status_code == 500:\n",
        "            print('Temporary issue: Try again')\n",
        "        else:\n",
        "            print('Failed with exception code: ' + str(\n",
        "                main.status_code))\n",
        "\n",
        "    except IOError:\n",
        "        print('Initialize client or provide API Key')\n"
      ],
      "execution_count": 0,
      "outputs": []
    },
    {
      "cell_type": "code",
      "metadata": {
        "id": "_3x1GFZD0CuS",
        "colab_type": "code",
        "colab": {}
      },
      "source": [
        "planet_quota()"
      ],
      "execution_count": 0,
      "outputs": []
    },
    {
      "cell_type": "markdown",
      "metadata": {
        "id": "vdrt0sCHJp1S",
        "colab_type": "text"
      },
      "source": [
        "**Planet Stats**\n",
        "\n",
        "Stats is an extremely useful too and is often when I start planning for my datasets. In this case right click on the geojson file you just uploaded and choose *copy path*. We will use this geometry file.\n",
        "\n",
        "The parameters that enter into the setup include\n",
        "\n",
        "\n",
        "1.   **interval**- month, week, year and so on\n",
        "2.   **item-type** -PSScene4Band, PSOrthoTile, REOrthoTile and so on\n",
        "3. **asset-type**- This is not necessary but you can provide an asset type like analytic, analytic_sr and so on\n",
        "\n",
        "To read more about Planet items and assets, [try this page](https://developers.planet.com/docs/api/items-assets/)\n",
        "\n"
      ]
    },
    {
      "cell_type": "code",
      "metadata": {
        "id": "MaSg0y00GH2O",
        "colab_type": "code",
        "colab": {}
      },
      "source": [
        "!planet data stats --interval month --item-type PSScene4Band --asset-type analytic --geom /aoi.geojson"
      ],
      "execution_count": 0,
      "outputs": []
    },
    {
      "cell_type": "markdown",
      "metadata": {
        "id": "_eM4n7FKQfdr",
        "colab_type": "text"
      },
      "source": [
        "**Generate Planet Data Footprints**\n",
        "\n",
        "The next thing I like to do, I want to see where these images are, what are the footprints of these images. This is also something that does not use your quota, but requires you to have an active planet account and a quota subscription. We are writing the metadata along with the geometry as a geojson file and upload it back to [geojson.io](http://geojson.io)\n",
        "\n",
        "We use the flag **--limit** to specify the number of images we want to look for. Here I am specifying *100* images"
      ]
    },
    {
      "cell_type": "code",
      "metadata": {
        "id": "5SricH5rGODW",
        "colab_type": "code",
        "colab": {}
      },
      "source": [
        "!planet data search --item-type PSScene4Band --asset-type analytic --limit 100 --geom /aoi.geojson >/fp.geojson"
      ],
      "execution_count": 0,
      "outputs": []
    },
    {
      "cell_type": "markdown",
      "metadata": {
        "id": "dVC_Ez6fikWm",
        "colab_type": "text"
      },
      "source": [
        "![Footprint_metadata](https://user-images.githubusercontent.com/6677629/66720585-8d79a800-edb3-11e9-81da-9c7c1444b957.PNG)"
      ]
    },
    {
      "cell_type": "markdown",
      "metadata": {
        "id": "e3WtgliGd3qz",
        "colab_type": "text"
      },
      "source": [
        "**Downloading Planet Data**\n",
        "\n",
        "This gets more interesting and will use your quota. Now before you get into the weeds about the planet command line tool that we have been exploring throughout the tutorial. Here is a medium article **[Demystifying Planet’s Command Line Tool](https://medium.com/planet-stories/demystifying-planets-command-line-tool-660870b32317)**\n",
        "\n",
        "This should help you get to more advanced things. For this case we are going to download one image, we are going to set a start and end date and also use a cloud cover. We definitely want a clean imagery without clouds. So the things we are going to introduce are (here gt and lt specifies greater than and less than). Here cloud cover can be replaced with any other numeric metadata\n",
        "1. Start Date --date acquired gt \"2018–01–01\"  \n",
        "2. End date --date acquired lt \"2018–12–31\"\n",
        "3. Cloud cover --range cloud_cover lt \"0.2\"\n"
      ]
    },
    {
      "cell_type": "markdown",
      "metadata": {
        "id": "p_zisShazWQW",
        "colab_type": "text"
      },
      "source": [
        "You can copy and paste this in your terminal window. The client has issues with piping the response so we use subprocess to download the imagery. Planet imagery is not active and needs time to be activated and then the download process can begin. So this can take some time even if we are downloading only a single image"
      ]
    },
    {
      "cell_type": "code",
      "metadata": {
        "id": "zAR0TZWcGTOv",
        "colab_type": "code",
        "colab": {}
      },
      "source": [
        "import subprocess\n",
        "try:\n",
        "  subprocess.call(\"planet data download --item-type PSScene4Band --asset-type analytic --date acquired gt 2018-01-01 --date acquired lt 2018-12-31 --range cloud_cover lt 0.2 --limit 1 --geom /aoi.geojson --dest /usr/planet\",shell=True)\n",
        "except Exception as e:\n",
        "  print(e)"
      ],
      "execution_count": 0,
      "outputs": []
    },
    {
      "cell_type": "markdown",
      "metadata": {
        "id": "fAF9W7bAoSDz",
        "colab_type": "text"
      },
      "source": [
        "Check the quota again it should have reduced by some amount."
      ]
    },
    {
      "cell_type": "code",
      "metadata": {
        "id": "XbL33tbxXom0",
        "colab_type": "code",
        "colab": {}
      },
      "source": [
        "planet_quota()"
      ],
      "execution_count": 0,
      "outputs": []
    },
    {
      "cell_type": "markdown",
      "metadata": {
        "id": "p1oP9-P2jsF7",
        "colab_type": "text"
      },
      "source": [
        "**Citing Planet Data**\n",
        "\n",
        "From a concept in our garage, to operating the largest fleet of Earth-imaging satellites, many people have invested time and energy in developing and enabling access to Planet’s unique data feed. Please cite Planet when using our imagery and tools.\n",
        "\n",
        "To cite Planet data in publications, please use the following:\n",
        "\n",
        "\n",
        "*Planet Team (2017). Planet Application Program Interface: In Space for Life on Earth. San Francisco, CA. https://api.planet.com.*"
      ]
    }
  ]
}