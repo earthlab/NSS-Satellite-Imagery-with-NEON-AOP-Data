{
 "cells": [
  {
   "cell_type": "code",
   "execution_count": 19,
   "metadata": {},
   "outputs": [],
   "source": [
    "import pandas as pd \n",
    "import numpy as np\n",
    "import matplotlib.pyplot as plt\n",
    "import sympy as sy\n",
    "from sklearn import metrics"
   ]
  },
  {
   "cell_type": "code",
   "execution_count": 2,
   "metadata": {},
   "outputs": [
    {
     "name": "stdout",
     "output_type": "stream",
     "text": [
      "MicasenseQEvals_trim.csv\n",
      "RedEdge_3_Filters_srs.xlsx\n",
      "rededge_rsr.csv\n",
      "rededge_RSR.ipynb\n",
      "rededge_RSR_area_under_curve.ipynb\n"
     ]
    }
   ],
   "source": [
    "!ls"
   ]
  },
  {
   "cell_type": "code",
   "execution_count": 3,
   "metadata": {},
   "outputs": [],
   "source": [
    "re_filts = pd.read_csv('./rededge_rsr.csv')"
   ]
  },
  {
   "cell_type": "code",
   "execution_count": 4,
   "metadata": {},
   "outputs": [
    {
     "data": {
      "text/html": [
       "<div>\n",
       "<style scoped>\n",
       "    .dataframe tbody tr th:only-of-type {\n",
       "        vertical-align: middle;\n",
       "    }\n",
       "\n",
       "    .dataframe tbody tr th {\n",
       "        vertical-align: top;\n",
       "    }\n",
       "\n",
       "    .dataframe thead th {\n",
       "        text-align: right;\n",
       "    }\n",
       "</style>\n",
       "<table border=\"1\" class=\"dataframe\">\n",
       "  <thead>\n",
       "    <tr style=\"text-align: right;\">\n",
       "      <th></th>\n",
       "      <th>Wavlength (nm)</th>\n",
       "      <th>b</th>\n",
       "      <th>g</th>\n",
       "      <th>r</th>\n",
       "      <th>re</th>\n",
       "      <th>nir</th>\n",
       "    </tr>\n",
       "  </thead>\n",
       "  <tbody>\n",
       "    <tr>\n",
       "      <th>0</th>\n",
       "      <td>392</td>\n",
       "      <td>0.007917</td>\n",
       "      <td>0.017997</td>\n",
       "      <td>0.006575</td>\n",
       "      <td>0.011476</td>\n",
       "      <td>0.005033</td>\n",
       "    </tr>\n",
       "    <tr>\n",
       "      <th>1</th>\n",
       "      <td>393</td>\n",
       "      <td>0.007836</td>\n",
       "      <td>0.015377</td>\n",
       "      <td>0.010038</td>\n",
       "      <td>0.023562</td>\n",
       "      <td>0.004924</td>\n",
       "    </tr>\n",
       "    <tr>\n",
       "      <th>2</th>\n",
       "      <td>394</td>\n",
       "      <td>0.006408</td>\n",
       "      <td>0.015209</td>\n",
       "      <td>0.009209</td>\n",
       "      <td>0.028815</td>\n",
       "      <td>0.005597</td>\n",
       "    </tr>\n",
       "    <tr>\n",
       "      <th>3</th>\n",
       "      <td>395</td>\n",
       "      <td>0.006274</td>\n",
       "      <td>0.009561</td>\n",
       "      <td>0.009870</td>\n",
       "      <td>0.024975</td>\n",
       "      <td>0.004231</td>\n",
       "    </tr>\n",
       "    <tr>\n",
       "      <th>4</th>\n",
       "      <td>396</td>\n",
       "      <td>0.005210</td>\n",
       "      <td>0.010333</td>\n",
       "      <td>0.007013</td>\n",
       "      <td>0.005397</td>\n",
       "      <td>0.005787</td>\n",
       "    </tr>\n",
       "  </tbody>\n",
       "</table>\n",
       "</div>"
      ],
      "text/plain": [
       "   Wavlength (nm)         b         g         r        re       nir\n",
       "0             392  0.007917  0.017997  0.006575  0.011476  0.005033\n",
       "1             393  0.007836  0.015377  0.010038  0.023562  0.004924\n",
       "2             394  0.006408  0.015209  0.009209  0.028815  0.005597\n",
       "3             395  0.006274  0.009561  0.009870  0.024975  0.004231\n",
       "4             396  0.005210  0.010333  0.007013  0.005397  0.005787"
      ]
     },
     "execution_count": 4,
     "metadata": {},
     "output_type": "execute_result"
    }
   ],
   "source": [
    "re_filts.head()"
   ]
  },
  {
   "cell_type": "code",
   "execution_count": 53,
   "metadata": {
    "scrolled": false
   },
   "outputs": [
    {
     "data": {
      "image/png": "[encoded data removed]",
      "text/plain": [
       "<Figure size 720x576 with 1 Axes>"
      ]
     },
     "metadata": {
      "needs_background": "light"
     },
     "output_type": "display_data"
    }
   ],
   "source": [
    "# shift the blue and calc area of shifted to original\n",
    "l = re_filts['Wavlength (nm)'].values\n",
    "b = re_filts['b'].values\n",
    "shift_val = -10\n",
    "b_shift = np.roll(b, shift_val)\n",
    "\n",
    "# find intersection points\n",
    "idx = np.argwhere(np.diff(np.sign(b - b_shift))).flatten()\n",
    "idx_threshold = 0.05\n",
    "idx_t = idx[b_shift[idx] > idx_threshold]\n",
    "\n",
    "plt.figure(figsize=(10,8))\n",
    "plt.plot(l, b, label='original')\n",
    "plt.plot(l, b_shift, '--', label='shifted')\n",
    "plt.plot(l[idx_t], b_shift[idx_t], 'ro')\n",
    "plt.legend()\n",
    "plt.show()\n",
    "\n"
   ]
  },
  {
   "cell_type": "code",
   "execution_count": null,
   "metadata": {},
   "outputs": [],
   "source": []
  },
  {
   "cell_type": "code",
   "execution_count": null,
   "metadata": {},
   "outputs": [],
   "source": []
  },
  {
   "cell_type": "code",
   "execution_count": null,
   "metadata": {},
   "outputs": [],
   "source": []
  },
  {
   "cell_type": "code",
   "execution_count": null,
   "metadata": {},
   "outputs": [],
   "source": []
  }
 ],
 "metadata": {
  "kernelspec": {
   "display_name": "Python (eapy_gbdx367)",
   "language": "python",
   "name": "eapy_gbdx367"
  },
  "language_info": {
   "codemirror_mode": {
    "name": "ipython",
    "version": 3
   },
   "file_extension": ".py",
   "mimetype": "text/x-python",
   "name": "python",
   "nbconvert_exporter": "python",
   "pygments_lexer": "ipython3",
   "version": "3.6.7"
  }
 },
 "nbformat": 4,
 "nbformat_minor": 2
}
